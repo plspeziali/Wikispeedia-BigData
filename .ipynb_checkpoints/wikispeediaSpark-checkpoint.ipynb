{
 "cells": [
  {
   "cell_type": "code",
   "execution_count": 5,
   "id": "f1d02dc4",
   "metadata": {},
   "outputs": [
    {
     "ename": "ModuleNotFoundError",
     "evalue": "No module named 'pyspark'",
     "output_type": "error",
     "traceback": [
      "\u001b[0;31m---------------------------------------------------------------------------\u001b[0m",
      "\u001b[0;31mModuleNotFoundError\u001b[0m                       Traceback (most recent call last)",
      "Input \u001b[0;32mIn [5]\u001b[0m, in \u001b[0;36m<cell line: 2>\u001b[0;34m()\u001b[0m\n\u001b[1;32m      1\u001b[0m \u001b[38;5;66;03m# Import main packages\u001b[39;00m\n\u001b[0;32m----> 2\u001b[0m \u001b[38;5;28;01mfrom\u001b[39;00m \u001b[38;5;21;01mpyspark\u001b[39;00m \u001b[38;5;28;01mimport\u001b[39;00m SparkContext, SparkConf\n\u001b[1;32m      3\u001b[0m \u001b[38;5;28;01mfrom\u001b[39;00m \u001b[38;5;21;01mpyspark\u001b[39;00m\u001b[38;5;21;01m.\u001b[39;00m\u001b[38;5;21;01msql\u001b[39;00m \u001b[38;5;28;01mimport\u001b[39;00m SparkSession\n",
      "\u001b[0;31mModuleNotFoundError\u001b[0m: No module named 'pyspark'"
     ]
    }
   ],
   "source": [
    "# Import main packages\n",
    "from pyspark import SparkContext, SparkConf\n",
    "from pyspark.sql import SparkSession"
   ]
  },
  {
   "cell_type": "code",
   "execution_count": 2,
   "id": "755a8539",
   "metadata": {},
   "outputs": [
    {
     "name": "stdout",
     "output_type": "stream",
     "text": [
      "22/10/31 12:41:41 WARN SparkSession: Using an existing Spark session; only runtime SQL configurations will take effect.\n"
     ]
    }
   ],
   "source": [
    "# Create Spark context\n",
    "sparkConf = SparkConf()\n",
    "sparkConf.setAppName(\"pm10\")\n",
    "spark = SparkSession.builder.config(conf=sparkConf).getOrCreate()\n",
    "sc = spark.sparkContext"
   ]
  },
  {
   "cell_type": "code",
   "execution_count": 3,
   "id": "004eadeb",
   "metadata": {},
   "outputs": [],
   "source": [
    "# Read dataframe\n",
    "df = spark.read \\\n",
    "    .format(\"csv\") \\\n",
    "    .option(\"header\", \"false\") \\\n",
    "    .option(\"delimiter\", \"\\t\") \\\n",
    "    .option(\"mode\", \"DROPMALFORMED\") \\\n",
    "    .load(\"hdfs://localhost:9000/user/bigdata2022/Documenti/Wikispeedia-BigData/dataset/categories.tsv\")\n",
    "df.show(5)"
   ]
  },
  {
   "cell_type": "code",
   "execution_count": 4,
   "id": "003048c9",
   "metadata": {},
   "outputs": [],
   "source": [
    "rdd = df.rdd\n",
    "rdd = rdd.map(lambda x: [x[2], x[9], x[10], x[13]])"
   ]
  },
  {
   "cell_type": "code",
   "execution_count": 5,
   "id": "f77d9867",
   "metadata": {},
   "outputs": [],
   "source": [
    "critical_values = rdd.filter(lambda line: line[3].isnumeric() and float(line[3]) > 50)"
   ]
  },
  {
   "cell_type": "code",
   "execution_count": 6,
   "id": "5534b044",
   "metadata": {},
   "outputs": [],
   "source": [
    "critical_sites = critical_values.map(lambda value: (value[0],1))\n",
    "critical_sites = critical_sites.reduceByKey(lambda a, b: a+b)"
   ]
  },
  {
   "cell_type": "code",
   "execution_count": 7,
   "id": "7aa294b0",
   "metadata": {},
   "outputs": [
    {
     "name": "stderr",
     "output_type": "stream",
     "text": [
      "                                                                                \r"
     ]
    },
    {
     "data": {
      "text/plain": [
       "[(14728, '0004'),\n",
       " (14134, '0005'),\n",
       " (12605, '0500'),\n",
       " (8537, '0011'),\n",
       " (8374, '1004'),\n",
       " (7951, '2002'),\n",
       " (7593, '0003'),\n",
       " (7248, '0014'),\n",
       " (7219, '2010'),\n",
       " (6971, '0001'),\n",
       " (6730, '1003'),\n",
       " (6322, '0232'),\n",
       " (5835, '0002'),\n",
       " (5718, '0020'),\n",
       " (5457, '0017'),\n",
       " (5435, '1002'),\n",
       " (4999, '0007'),\n",
       " (4901, '5001'),\n",
       " (4872, '0008'),\n",
       " (4492, '4004'),\n",
       " (4359, '4003'),\n",
       " (3983, '0019'),\n",
       " (3978, '0010'),\n",
       " (3852, '0018'),\n",
       " (3822, '1005'),\n",
       " (3659, '4009'),\n",
       " (3623, '8005'),\n",
       " (3225, '0031'),\n",
       " (3190, '0009'),\n",
       " (3173, '3015'),\n",
       " (3083, '1001'),\n",
       " (2911, '0016'),\n",
       " (2878, '3001'),\n",
       " (2684, '3008'),\n",
       " (2651, '0022'),\n",
       " (2615, '4011'),\n",
       " (2610, '0025'),\n",
       " (2585, '0021'),\n",
       " (2478, '1999'),\n",
       " (2248, '3002'),\n",
       " (2221, '9004'),\n",
       " (2156, '8001'),\n",
       " (2011, '1016'),\n",
       " (1992, '7004'),\n",
       " (1942, '3011'),\n",
       " (1921, '0015'),\n",
       " (1904, '0006'),\n",
       " (1869, '2005'),\n",
       " (1857, '3016'),\n",
       " (1798, '8011')]"
      ]
     },
     "execution_count": 7,
     "metadata": {},
     "output_type": "execute_result"
    }
   ],
   "source": [
    "top_sites = critical_sites.map(lambda site: (site[1], site[0]))\n",
    "top_sites = top_sites.reduceByKey(lambda a, b: a+\", \"+b)\n",
    "top_sites.sortByKey(ascending=False).take(50)"
   ]
  },
  {
   "cell_type": "code",
   "execution_count": 8,
   "id": "11ea5d1b",
   "metadata": {},
   "outputs": [],
   "source": [
    "# Stop context\n",
    "spark.stop()"
   ]
  }
 ],
 "metadata": {
  "kernelspec": {
   "display_name": "Python 3 (ipykernel)",
   "language": "python",
   "name": "python3"
  },
  "language_info": {
   "codemirror_mode": {
    "name": "ipython",
    "version": 3
   },
   "file_extension": ".py",
   "mimetype": "text/x-python",
   "name": "python",
   "nbconvert_exporter": "python",
   "pygments_lexer": "ipython3",
   "version": "3.10.6"
  }
 },
 "nbformat": 4,
 "nbformat_minor": 5
}
